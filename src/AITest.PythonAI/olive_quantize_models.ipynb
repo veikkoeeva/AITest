{
 "cells": [
  {
   "cell_type": "markdown",
   "metadata": {},
   "source": [
    "# ONNX Model Conversion to FP16\n",
    "This notebook downloads an ONNX model and converts it to FP16 precision using Olive."
   ]
  },
  {
   "cell_type": "markdown",
   "metadata": {},
   "source": [
    "# Step 0: Check environment"
   ]
  },
  {
   "cell_type": "code",
   "execution_count": 3,
   "metadata": {},
   "outputs": [
    {
     "name": "stdout",
     "output_type": "stream",
     "text": [
      "c:\\Users\\Veikko\\AppData\\Local\\Programs\\Python\\Python313\\python.exe\n"
     ]
    }
   ],
   "source": [
    "import sys\n",
    "print(sys.executable)"
   ]
  },
  {
   "cell_type": "markdown",
   "metadata": {},
   "source": [
    "## Step 1: Download the ONNX Model\n",
    "Download the ResNet50 model from the ONNX Model Zoo if it doesn't already exist."
   ]
  },
  {
   "cell_type": "code",
   "execution_count": 2,
   "metadata": {},
   "outputs": [
    {
     "name": "stdout",
     "output_type": "stream",
     "text": [
      "Downloading the model from https://github.com/onnx/models/raw/main/validated/vision/classification/resnet/model/resnet50-v2-7.onnx...\n",
      "Model downloaded to artifacts/models/resnet50\\resnet50-v2-7.onnx\n"
     ]
    }
   ],
   "source": [
    "import os\n",
    "import urllib.request\n",
    "\n",
    "# Define the model URL and local path\n",
    "model_url = \"https://github.com/onnx/models/raw/main/validated/vision/classification/resnet/model/resnet50-v2-7.onnx\"\n",
    "model_dir = \"artifacts/models/resnet50\"\n",
    "model_name = \"resnet50-v2-7.onnx\"\n",
    "model_path = os.path.join(model_dir, model_name)\n",
    "\n",
    "# Create the directory if it doesn't exist\n",
    "os.makedirs(model_dir, exist_ok=True)\n",
    "\n",
    "# Download the model if it doesn't already exist\n",
    "if not os.path.exists(model_path):\n",
    "    print(f\"Downloading the model from {model_url}...\")\n",
    "    urllib.request.urlretrieve(model_url, model_path)\n",
    "    print(f\"Model downloaded to {model_path}\")\n",
    "else:\n",
    "    print(f\"Model already exists at {model_path}\")"
   ]
  },
  {
   "cell_type": "markdown",
   "metadata": {},
   "source": [
    "## Step 2: Run the Olive Workflow\n",
    "Run the Olive workflow to convert the model to FP16 precision."
   ]
  },
  {
   "cell_type": "code",
   "execution_count": null,
   "metadata": {},
   "outputs": [
    {
     "name": "stderr",
     "output_type": "stream",
     "text": [
      "c:\\Users\\Veikko\\AppData\\Local\\Programs\\Python\\Python312\\Lib\\site-packages\\tqdm\\auto.py:21: TqdmWarning: IProgress not found. Please update jupyter and ipywidgets. See https://ipywidgets.readthedocs.io/en/stable/user_install.html\n",
      "  from .autonotebook import tqdm as notebook_tqdm\n"
     ]
    },
    {
     "name": "stdout",
     "output_type": "stream",
     "text": [
      "True\n",
      "Running Olive workflow...\n",
      "Olive workflow completed.\n"
     ]
    }
   ],
   "source": [
    "import os\n",
    "from olive.workflows import run as olive_run\n",
    "\n",
    "# Path to the Olive configuration file.\n",
    "olive_config_path = \"./olive/olive_quantize_cpu_to_fp16.json\"\n",
    "print(os.path.exists(olive_config_path))\n",
    "\n",
    "# Run the Olive workflow.\n",
    "print(\"Running Olive workflow...\")\n",
    "olive_run(olive_config_path)\n",
    "print(\"Olive workflow completed.\")"
   ]
  },
  {
   "cell_type": "markdown",
   "metadata": {},
   "source": [
    "## Step 3: Verify the Output\n",
    "Check the output directory for the converted FP16 model and the packaged ZIP file."
   ]
  },
  {
   "cell_type": "code",
   "execution_count": 5,
   "metadata": {},
   "outputs": [
    {
     "name": "stdout",
     "output_type": "stream",
     "text": [
      "Output files:\n",
      "olive/converted/MSFT/converted_fp16_model\\ConvertedFP16Model.zip\n",
      "olive/converted/MSFT/converted_fp16_model\\footprints.json\n",
      "olive/converted/MSFT/converted_fp16_model\\output_footprints.json\n",
      "olive/converted/MSFT/converted_fp16_model\\output_model\n",
      "olive/converted/MSFT/converted_fp16_model\\run_history.txt\n"
     ]
    }
   ],
   "source": [
    "import glob\n",
    "\n",
    "# List files in the output directory.\n",
    "output_dir = \"olive/converted/MSFT/converted_fp16_model\"\n",
    "output_files = glob.glob(os.path.join(output_dir, \"*\"))\n",
    "\n",
    "if output_files:\n",
    "    print(\"Output files:\")\n",
    "    for file in output_files:\n",
    "        print(file)\n",
    "else:\n",
    "    print(\"No output files found.\")"
   ]
  }
 ],
 "metadata": {
  "kernelspec": {
   "display_name": "Python 3",
   "language": "python",
   "name": "python3"
  },
  "language_info": {
   "codemirror_mode": {
    "name": "ipython",
    "version": 3
   },
   "file_extension": ".py",
   "mimetype": "text/x-python",
   "name": "python",
   "nbconvert_exporter": "python",
   "pygments_lexer": "ipython3",
   "version": "3.12.8"
  }
 },
 "nbformat": 4,
 "nbformat_minor": 4
}
