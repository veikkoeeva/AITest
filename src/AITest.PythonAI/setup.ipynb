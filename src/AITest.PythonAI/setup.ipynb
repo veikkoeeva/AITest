{
 "cells": [
  {
   "cell_type": "markdown",
   "metadata": {},
   "source": [
    "# Project Setup\n",
    "\n",
    "Welcome to the **aitest_python_ai** project! This notebook will guide you through the setup process step-by-step.\n",
    "\n",
    "### What This Notebook Does\n",
    "1. Installs the project dependencies.\n",
    "2. Verifies that everything is set up correctly.\n",
    "3. Provides a starting point for extending functionality.\n",
    "\n",
    "### Requirements\n",
    "- Python (>=3.12)\n",
    "- A virtual environment (optional but recommended)\n",
    "- Jupyter Notebook installed\n",
    "\n",
    "Let's get started!"
   ]
  },
  {
   "cell_type": "code",
   "execution_count": null,
   "metadata": {},
   "outputs": [],
   "source": [
    "# Check Python version.\n",
    "import sys\n",
    "\n",
    "print(f\"Python version: {sys.version}\")\n",
    "if sys.version_info < (3, 12):\n",
    "    print(\"⚠️ Python version must be >= 3.12\")\n",
    "else:\n",
    "    print(\"✅ Python version is compatible!\")"
   ]
  },
  {
   "cell_type": "code",
   "execution_count": null,
   "metadata": {},
   "outputs": [],
   "source": [
    "# Install the project in editable mode.\n",
    "import subprocess\n",
    "\n",
    "try:\n",
    "    subprocess.check_call([\"pip\", \"install\", \".\"])\n",
    "    print(\"✅ Project installed successfully!\")\n",
    "except subprocess.CalledProcessError as e:\n",
    "    print(f\"❌ Installation failed: {e}\")"
   ]
  },
  {
   "cell_type": "code",
   "execution_count": null,
   "metadata": {},
   "outputs": [],
   "source": [
    "# Install development dependencies.\n",
    "try:\n",
    "    subprocess.check_call([\"pip\", \"install\", \".[dev]\"])\n",
    "    print(\"✅ Development dependencies installed!\")\n",
    "except subprocess.CalledProcessError as e:\n",
    "    print(f\"❌ Installation failed: {e}\")"
   ]
  },
  {
   "cell_type": "code",
   "execution_count": null,
   "metadata": {},
   "outputs": [],
   "source": [
    "# Verify installed packages.\n",
    "try:\n",
    "    installed_packages = subprocess.check_output([\"pip\", \"freeze\"], text=True)\n",
    "    print(\"Installed packages:\")\n",
    "    print(installed_packages)\n",
    "except subprocess.CalledProcessError as e:\n",
    "    print(f\"❌ Failed to fetch installed packages: {e}\")"
   ]
  }
 ],
 "metadata": {
  "kernelspec": {
   "display_name": "Python 3",
   "language": "python",
   "name": "python3"
  },
  "language_info": {
   "codemirror_mode": {
    "name": "ipython",
    "version": 3
   },
   "file_extension": ".py",
   "mimetype": "text/x-python",
   "name": "python",
   "nbconvert_exporter": "python",
   "pygments_lexer": "ipython3",
   "version": "3.12"
  }
 },
 "nbformat": 4,
 "nbformat_minor": 5
}
