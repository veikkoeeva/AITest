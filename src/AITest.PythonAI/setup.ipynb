{
 "cells": [
  {
   "cell_type": "markdown",
   "metadata": {},
   "source": [
    "# Project Setup\n",
    "\n",
    "Welcome to the **aitest_python_ai** project! This notebook will guide you through the setup process step-by-step.\n",
    "\n",
    "### What This Notebook Does\n",
    "1. Installs the project dependencies.\n",
    "2. Verifies that everything is set up correctly.\n",
    "3. Provides a starting point for extending functionality.\n",
    "\n",
    "### Requirements\n",
    "- Python (==3.12)\n",
    "- A virtual environment (optional but recommended)\n",
    "- Jupyter Notebook installed\n",
    "\n",
    "Let's get started!"
   ]
  },
  {
   "cell_type": "code",
   "execution_count": 3,
   "metadata": {},
   "outputs": [
    {
     "name": "stdout",
     "output_type": "stream",
     "text": [
      "Python version: 3.12.8 (tags/v3.12.8:2dc476b, Dec  3 2024, 19:30:04) [MSC v.1942 64 bit (AMD64)]\n",
      "✅ Python version is compatible!\n"
     ]
    }
   ],
   "source": [
    "import sys\n",
    "\n",
    "# Check Python version.\n",
    "print(f\"Python version: {sys.version}\")\n",
    "\n",
    "if sys.version_info[:2] == (3, 12):\n",
    "    print(\"✅ Python version is compatible!\")\n",
    "else:\n",
    "    print(\"⚠️ Python version must be == 3.12\")\n"
   ]
  },
  {
   "cell_type": "code",
   "execution_count": null,
   "metadata": {},
   "outputs": [],
   "source": [
    "# Install the project in editable mode.\n",
    "import subprocess\n",
    "\n",
    "result = subprocess.run([\"pip\", \"install\", \".\"], capture_output=True, text=True)\n",
    "\n",
    "if result.returncode == 0:\n",
    "    print(\"✅ Project installed successfully!\")\n",
    "else:\n",
    "    print(\"❌ Installation failed!\")\n",
    "    print(f\"Return code: {result.returncode}\")\n",
    "    print(f\"Standard Output: {result.stdout}\")\n",
    "    print(f\"Error Output: {result.stderr}\")\n",
    "    "
   ]
  },
  {
   "cell_type": "code",
   "execution_count": null,
   "metadata": {},
   "outputs": [],
   "source": [
    "# Install development dependencies.\n",
    "try:\n",
    "    subprocess.check_call([\"pip\", \"install\", \".[dev]\"])\n",
    "    print(\"✅ Development dependencies installed!\")\n",
    "except subprocess.CalledProcessError as e:\n",
    "    print(f\"❌ Installation failed: {e}\")"
   ]
  },
  {
   "cell_type": "code",
   "execution_count": null,
   "metadata": {},
   "outputs": [],
   "source": [
    "# Verify installed packages.\n",
    "try:\n",
    "    installed_packages = subprocess.check_output([\"pip\", \"freeze\"], text=True)\n",
    "    print(\"Installed packages:\")\n",
    "    print(installed_packages)\n",
    "except subprocess.CalledProcessError as e:\n",
    "    print(f\"❌ Failed to fetch installed packages: {e}\")"
   ]
  }
 ],
 "metadata": {
  "kernelspec": {
   "display_name": "Python 3",
   "language": "python",
   "name": "python3"
  },
  "language_info": {
   "codemirror_mode": {
    "name": "ipython",
    "version": 3
   },
   "file_extension": ".py",
   "mimetype": "text/x-python",
   "name": "python",
   "nbconvert_exporter": "python",
   "pygments_lexer": "ipython3",
   "version": "3.12.8"
  }
 },
 "nbformat": 4,
 "nbformat_minor": 5
}
